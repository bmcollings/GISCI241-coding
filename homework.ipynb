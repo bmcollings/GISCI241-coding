{
 "cells": [
  {
   "cell_type": "markdown",
   "metadata": {},
   "source": [
    "# Homework\n",
    "\n",
    "Using what you have learned in this weeks lecture. Answer the following questions. "
   ]
  },
  {
   "cell_type": "markdown",
   "metadata": {},
   "source": [
    "## Question 1. \n",
    "\n",
    "Write a script that uses some conditions in a for loop to find the numbers greater than 950 **and** greater than 500 but less than 525 in the variable ``` random_list ```. Copy and paste your code and the answers to your answer sheet. \n"
   ]
  },
  {
   "cell_type": "code",
   "execution_count": null,
   "metadata": {},
   "outputs": [],
   "source": [
    "# random list of numbers\n",
    "random_list = [34, 960, 333, 159, 356, 166, 335, 289, 838, 702, 585, 320, 147, 276, 353, \n",
    "84, 612, 76, 373, 3, 213, 719, 501, 870, 948, 569, 854, 978, 309, 611, 801, 11, 39, 751, \n",
    "539, 49, 593, 451, 869, 487, 973, 436, 512, 108, 940, 928, 595, 146, 40, 148, 676, 534, \n",
    "648, 291, 165, 558, 779, 767, 695, 256, 27, 860, 722, 935, 624, 359, 483, 363, 292, \n",
    "906, 829, 750, 680, 379, 903, 712, 239, 230, 321, 467, 794, 662, 495, 455, 268, 25, \n",
    "336, 348, 784, 248, 1, 877, 498, 102, 491, 582, 699, 617, 106, 352]\n",
    "\n",
    "\n",
    "# write your code below this line\n",
    "\n"
   ]
  },
  {
   "cell_type": "markdown",
   "metadata": {},
   "source": [
    "## Question 2\n",
    "\n",
    "Use a while loop to find the square numbers for 54 through to 64. Copy and paste your code to your answer sheet. "
   ]
  },
  {
   "cell_type": "code",
   "execution_count": null,
   "metadata": {},
   "outputs": [],
   "source": [
    "# write your code below this line"
   ]
  },
  {
   "cell_type": "markdown",
   "metadata": {},
   "source": [
    "## Question 3 \n",
    "\n",
    "How would you call the first item in the list that is stored for the key ```'menu'``` in the dictionary ```a_dict_subvars```? Copy and paste your code to the answer sheet. "
   ]
  },
  {
   "cell_type": "code",
   "execution_count": null,
   "metadata": {},
   "outputs": [],
   "source": [
    "# define sub variables \n",
    "a_dict_subvars = {'restaurant': 'Subway', 'type': 'subs','menu':['pork riblet', 'ham cheese', 'tuna steak']}\n",
    "\n",
    "# write your code below this line\n"
   ]
  },
  {
   "cell_type": "markdown",
   "metadata": {},
   "source": [
    "## Question 4 \n",
    "\n",
    "How would you index the last character in the string ```this_is_a_string```? Copy and paste your code to your answer sheet. \n",
    "\n"
   ]
  },
  {
   "cell_type": "code",
   "execution_count": null,
   "metadata": {},
   "outputs": [],
   "source": [
    "this_is_a_string = 'Welcome GISCI241 to programming in Python'\n",
    "\n",
    "# write your code below this line\n"
   ]
  },
  {
   "cell_type": "markdown",
   "metadata": {},
   "source": [
    "## Question 5 \n",
    "\n",
    "What built in python function would you use to add an item to a list?"
   ]
  },
  {
   "cell_type": "markdown",
   "metadata": {},
   "source": [
    "## Functions and geopandas\n",
    "\n",
    "The following questions will be focused on what you've learnt about functions and geopandas in the lecture. You've been provided with the variable ```world_gdf``` containing the world shapefile that we used in functions part of the lecture. The next code block provides an overview of the dataset and the attribute information associated with it. You'll be using this data to answer the next set of questions."
   ]
  },
  {
   "cell_type": "code",
   "execution_count": 1,
   "metadata": {},
   "outputs": [
    {
     "data": {
      "text/html": [
       "<div>\n",
       "<style scoped>\n",
       "    .dataframe tbody tr th:only-of-type {\n",
       "        vertical-align: middle;\n",
       "    }\n",
       "\n",
       "    .dataframe tbody tr th {\n",
       "        vertical-align: top;\n",
       "    }\n",
       "\n",
       "    .dataframe thead th {\n",
       "        text-align: right;\n",
       "    }\n",
       "</style>\n",
       "<table border=\"1\" class=\"dataframe\">\n",
       "  <thead>\n",
       "    <tr style=\"text-align: right;\">\n",
       "      <th></th>\n",
       "      <th>pop_est</th>\n",
       "      <th>continent</th>\n",
       "      <th>name</th>\n",
       "      <th>iso_a3</th>\n",
       "      <th>gdp_md_est</th>\n",
       "      <th>geometry</th>\n",
       "    </tr>\n",
       "  </thead>\n",
       "  <tbody>\n",
       "    <tr>\n",
       "      <th>0</th>\n",
       "      <td>889953.0</td>\n",
       "      <td>Oceania</td>\n",
       "      <td>Fiji</td>\n",
       "      <td>FJI</td>\n",
       "      <td>5496</td>\n",
       "      <td>MULTIPOLYGON (((180.00000 -16.06713, 180.00000...</td>\n",
       "    </tr>\n",
       "    <tr>\n",
       "      <th>1</th>\n",
       "      <td>58005463.0</td>\n",
       "      <td>Africa</td>\n",
       "      <td>Tanzania</td>\n",
       "      <td>TZA</td>\n",
       "      <td>63177</td>\n",
       "      <td>POLYGON ((33.90371 -0.95000, 34.07262 -1.05982...</td>\n",
       "    </tr>\n",
       "    <tr>\n",
       "      <th>2</th>\n",
       "      <td>603253.0</td>\n",
       "      <td>Africa</td>\n",
       "      <td>W. Sahara</td>\n",
       "      <td>ESH</td>\n",
       "      <td>907</td>\n",
       "      <td>POLYGON ((-8.66559 27.65643, -8.66512 27.58948...</td>\n",
       "    </tr>\n",
       "    <tr>\n",
       "      <th>3</th>\n",
       "      <td>37589262.0</td>\n",
       "      <td>North America</td>\n",
       "      <td>Canada</td>\n",
       "      <td>CAN</td>\n",
       "      <td>1736425</td>\n",
       "      <td>MULTIPOLYGON (((-122.84000 49.00000, -122.9742...</td>\n",
       "    </tr>\n",
       "    <tr>\n",
       "      <th>4</th>\n",
       "      <td>328239523.0</td>\n",
       "      <td>North America</td>\n",
       "      <td>United States of America</td>\n",
       "      <td>USA</td>\n",
       "      <td>21433226</td>\n",
       "      <td>MULTIPOLYGON (((-122.84000 49.00000, -120.0000...</td>\n",
       "    </tr>\n",
       "  </tbody>\n",
       "</table>\n",
       "</div>"
      ],
      "text/plain": [
       "       pop_est      continent                      name iso_a3  gdp_md_est  \\\n",
       "0     889953.0        Oceania                      Fiji    FJI        5496   \n",
       "1   58005463.0         Africa                  Tanzania    TZA       63177   \n",
       "2     603253.0         Africa                 W. Sahara    ESH         907   \n",
       "3   37589262.0  North America                    Canada    CAN     1736425   \n",
       "4  328239523.0  North America  United States of America    USA    21433226   \n",
       "\n",
       "                                            geometry  \n",
       "0  MULTIPOLYGON (((180.00000 -16.06713, 180.00000...  \n",
       "1  POLYGON ((33.90371 -0.95000, 34.07262 -1.05982...  \n",
       "2  POLYGON ((-8.66559 27.65643, -8.66512 27.58948...  \n",
       "3  MULTIPOLYGON (((-122.84000 49.00000, -122.9742...  \n",
       "4  MULTIPOLYGON (((-122.84000 49.00000, -120.0000...  "
      ]
     },
     "execution_count": 1,
     "metadata": {},
     "output_type": "execute_result"
    }
   ],
   "source": [
    "# import geopandas\n",
    "import geopandas as gpd\n",
    "\n",
    "world_shp = 'shapefiles/world.gpkg'\n",
    "\n",
    "world_gdf = gpd.read_file(world_shp)\n",
    "\n",
    "world_gdf.head()"
   ]
  },
  {
   "cell_type": "markdown",
   "metadata": {},
   "source": [
    "## Question 6 \n",
    "\n",
    "Below is the function we looked at that takes ```world_gdf``` and returns a country of our choosing as a new shapefile by defining the ```country_name``` parameter which is a string of our chosen country and the output file name defined by the parameter ```country_shapefile```. \n",
    "\n",
    "How would you adapt this function to return a specific continent rather than a country? Copy and paste your new function that returns a specified continent.\n",
    "\n"
   ]
  },
  {
   "cell_type": "code",
   "execution_count": null,
   "metadata": {},
   "outputs": [],
   "source": [
    "### Some functions that you have been provided with to answer the questions\n",
    "\n",
    "# define a function to return country from world_shapefile dataset and save it as a shapefile\n",
    "def return_country(world_shapefile, country_name, country_shapefile): \n",
    "    \n",
    "    # read the world shapefile as a geodataframe\n",
    "    world_gdf = gpd.read_file(world_shapefile)\n",
    "\n",
    "    # return the country that is equal to the country_name parameter\n",
    "    country = world_gdf[world_gdf['name'] == country_name]\n",
    "    \n",
    "    # add the country to a new geodataframe and write it to a new shapefile using the country_shapefile parameter\n",
    "    country_gdf = gpd.GeoDataFrame(country)\n",
    "    return country_gdf.to_file(country_shapefile)\n",
    "\n",
    "\n",
    "# write your code below this line\n",
    "\n"
   ]
  },
  {
   "cell_type": "markdown",
   "metadata": {},
   "source": [
    "## Question 7 \n",
    "\n",
    "Using your new function generate a plot of a chosen continent. You can copy and paste the output map into your answer sheet. \n",
    "\n"
   ]
  },
  {
   "cell_type": "code",
   "execution_count": null,
   "metadata": {},
   "outputs": [],
   "source": [
    "# write your code below this line \n"
   ]
  },
  {
   "cell_type": "markdown",
   "metadata": {},
   "source": [
    "## Question 8 \n",
    "\n",
    "You have been provided with a function that will calculate the area for each country in the world Geodataframe. After running this function, you will have all the variables required to calculate population density. The world shapefile contains the attribute ```pop_est``` and after running the area ```calc_area()``` function an area attribute for each country. \n",
    "\n",
    "> population density = population / area \n",
    "\n",
    "Using the ```calc_area()``` function as a guide, write a function that will calculate population density for each country in the world shapefile. Copy and paste the function into your answer sheet. "
   ]
  },
  {
   "cell_type": "code",
   "execution_count": 2,
   "metadata": {},
   "outputs": [
    {
     "name": "stderr",
     "output_type": "stream",
     "text": [
      "C:\\Users\\bcol845\\AppData\\Local\\Temp\\ipykernel_8732\\2463393258.py:5: UserWarning: Geometry is in a geographic CRS. Results from 'area' are likely incorrect. Use 'GeoSeries.to_crs()' to re-project geometries to a projected CRS before this operation.\n",
      "\n",
      "  world_gdf['area'] = world_gdf.geometry.area\n"
     ]
    },
    {
     "data": {
      "text/html": [
       "<div>\n",
       "<style scoped>\n",
       "    .dataframe tbody tr th:only-of-type {\n",
       "        vertical-align: middle;\n",
       "    }\n",
       "\n",
       "    .dataframe tbody tr th {\n",
       "        vertical-align: top;\n",
       "    }\n",
       "\n",
       "    .dataframe thead th {\n",
       "        text-align: right;\n",
       "    }\n",
       "</style>\n",
       "<table border=\"1\" class=\"dataframe\">\n",
       "  <thead>\n",
       "    <tr style=\"text-align: right;\">\n",
       "      <th></th>\n",
       "      <th>pop_est</th>\n",
       "      <th>continent</th>\n",
       "      <th>name</th>\n",
       "      <th>iso_a3</th>\n",
       "      <th>gdp_md_est</th>\n",
       "      <th>geometry</th>\n",
       "      <th>area</th>\n",
       "    </tr>\n",
       "  </thead>\n",
       "  <tbody>\n",
       "    <tr>\n",
       "      <th>0</th>\n",
       "      <td>889953.0</td>\n",
       "      <td>Oceania</td>\n",
       "      <td>Fiji</td>\n",
       "      <td>FJI</td>\n",
       "      <td>5496</td>\n",
       "      <td>MULTIPOLYGON (((180.00000 -16.06713, 180.00000...</td>\n",
       "      <td>1.639511</td>\n",
       "    </tr>\n",
       "    <tr>\n",
       "      <th>1</th>\n",
       "      <td>58005463.0</td>\n",
       "      <td>Africa</td>\n",
       "      <td>Tanzania</td>\n",
       "      <td>TZA</td>\n",
       "      <td>63177</td>\n",
       "      <td>POLYGON ((33.90371 -0.95000, 34.07262 -1.05982...</td>\n",
       "      <td>76.301964</td>\n",
       "    </tr>\n",
       "    <tr>\n",
       "      <th>2</th>\n",
       "      <td>603253.0</td>\n",
       "      <td>Africa</td>\n",
       "      <td>W. Sahara</td>\n",
       "      <td>ESH</td>\n",
       "      <td>907</td>\n",
       "      <td>POLYGON ((-8.66559 27.65643, -8.66512 27.58948...</td>\n",
       "      <td>8.603984</td>\n",
       "    </tr>\n",
       "    <tr>\n",
       "      <th>3</th>\n",
       "      <td>37589262.0</td>\n",
       "      <td>North America</td>\n",
       "      <td>Canada</td>\n",
       "      <td>CAN</td>\n",
       "      <td>1736425</td>\n",
       "      <td>MULTIPOLYGON (((-122.84000 49.00000, -122.9742...</td>\n",
       "      <td>1712.995228</td>\n",
       "    </tr>\n",
       "    <tr>\n",
       "      <th>4</th>\n",
       "      <td>328239523.0</td>\n",
       "      <td>North America</td>\n",
       "      <td>United States of America</td>\n",
       "      <td>USA</td>\n",
       "      <td>21433226</td>\n",
       "      <td>MULTIPOLYGON (((-122.84000 49.00000, -120.0000...</td>\n",
       "      <td>1122.281921</td>\n",
       "    </tr>\n",
       "  </tbody>\n",
       "</table>\n",
       "</div>"
      ],
      "text/plain": [
       "       pop_est      continent                      name iso_a3  gdp_md_est  \\\n",
       "0     889953.0        Oceania                      Fiji    FJI        5496   \n",
       "1   58005463.0         Africa                  Tanzania    TZA       63177   \n",
       "2     603253.0         Africa                 W. Sahara    ESH         907   \n",
       "3   37589262.0  North America                    Canada    CAN     1736425   \n",
       "4  328239523.0  North America  United States of America    USA    21433226   \n",
       "\n",
       "                                            geometry         area  \n",
       "0  MULTIPOLYGON (((180.00000 -16.06713, 180.00000...     1.639511  \n",
       "1  POLYGON ((33.90371 -0.95000, 34.07262 -1.05982...    76.301964  \n",
       "2  POLYGON ((-8.66559 27.65643, -8.66512 27.58948...     8.603984  \n",
       "3  MULTIPOLYGON (((-122.84000 49.00000, -122.9742...  1712.995228  \n",
       "4  MULTIPOLYGON (((-122.84000 49.00000, -120.0000...  1122.281921  "
      ]
     },
     "execution_count": 2,
     "metadata": {},
     "output_type": "execute_result"
    }
   ],
   "source": [
    "# a function to calculate area for each country in the country shapefile\n",
    "def calc_area(world_gdf):\n",
    "\n",
    "    # calculate area for items in world_shp and return the world geodataframe\n",
    "    world_gdf['area'] = world_gdf.geometry.area\n",
    "    \n",
    "    return world_gdf\n",
    "\n",
    "\n",
    "world_gdf = calc_area(world_gdf)\n",
    "\n",
    "world_gdf.head()"
   ]
  },
  {
   "cell_type": "code",
   "execution_count": null,
   "metadata": {},
   "outputs": [],
   "source": [
    "# write your code below this line\n"
   ]
  },
  {
   "cell_type": "markdown",
   "metadata": {},
   "source": [
    "## Question 9 \n",
    "\n",
    "Use you function to calculate population density and plot global population density. Copy and paste your plot into your answer sheet. "
   ]
  },
  {
   "cell_type": "code",
   "execution_count": null,
   "metadata": {},
   "outputs": [],
   "source": [
    "# write your code below this line"
   ]
  },
  {
   "cell_type": "code",
   "execution_count": null,
   "metadata": {},
   "outputs": [],
   "source": []
  }
 ],
 "metadata": {
  "interpreter": {
   "hash": "dcc9d62381dd83c6a603623cec7aeb39b0b26dae9863b9c32d410fc00861cd85"
  },
  "kernelspec": {
   "display_name": "bruun_rule_calc",
   "language": "python",
   "name": "bruun_rule_calc"
  },
  "language_info": {
   "codemirror_mode": {
    "name": "ipython",
    "version": 3
   },
   "file_extension": ".py",
   "mimetype": "text/x-python",
   "name": "python",
   "nbconvert_exporter": "python",
   "pygments_lexer": "ipython3",
   "version": "3.10.6"
  },
  "orig_nbformat": 4
 },
 "nbformat": 4,
 "nbformat_minor": 2
}
